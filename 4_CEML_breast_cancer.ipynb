{
  "nbformat": 4,
  "nbformat_minor": 0,
  "metadata": {
    "kernelspec": {
      "display_name": "Python 3",
      "language": "python",
      "name": "python3"
    },
    "language_info": {
      "codemirror_mode": {
        "name": "ipython",
        "version": 3
      },
      "file_extension": ".py",
      "mimetype": "text/x-python",
      "name": "python",
      "nbconvert_exporter": "python",
      "pygments_lexer": "ipython3",
      "version": "3.7.8"
    },
    "colab": {
      "name": "4_CEML_breast-cancer.ipynb",
      "provenance": [],
      "collapsed_sections": []
    }
  },
  "cells": [
    {
      "cell_type": "markdown",
      "metadata": {
        "id": "WE7-d8aDLeqw"
      },
      "source": [
        "# Explainable Artificial Intelligence usingCounterfactual Explanations\n",
        "\n",
        "> Authors: Asher Caley(21333994), Nicholas Cannon (22241579), Lucy Conran (22571813) and Willian Herreira Lima (21840411)\n",
        "\n",
        "# CITS4404 AI and Adaptive Systems - 2nd Semester 2020\n",
        "The University of Western Australia\n",
        "\n",
        "Faculty of Engineering and Mathematical Sciences\n",
        "\n",
        "Perth, Australia"
      ]
    },
    {
      "cell_type": "markdown",
      "metadata": {
        "id": "6OlyXoJeLjRg"
      },
      "source": [
        "With authorship of [Andre Artelt](https://www.github.com/andreArtelt/ceml) CEML is an extensible Python counterfactual toolkit that allows counterfactual explanations to be calculated on models built using popular Python machine learning packages such as Scikit-Learn, Tensorflow and Pytorch. The CEML library computes counterfactuals using techniques outlined in a [paper published](https://arxiv.org/abs/1911.07749) by the author. The paper explores the computation of counterfactuals in general and for specific models, in which CEML implements the general technique for computing counterfactuals."
      ]
    },
    {
      "cell_type": "code",
      "metadata": {
        "id": "eHeLMek5Lzie",
        "outputId": "0e7c7ed2-b90d-4832-b6c9-8eab84c5a9ee",
        "colab": {
          "base_uri": "https://localhost:8080/",
          "height": 887
        }
      },
      "source": [
        "!pip install ceml"
      ],
      "execution_count": 1,
      "outputs": [
        {
          "output_type": "stream",
          "text": [
            "Requirement already satisfied: ceml in /usr/local/lib/python3.6/dist-packages (0.5.1)\n",
            "Requirement already satisfied: cvxpy==1.1.0 in /usr/local/lib/python3.6/dist-packages (from ceml) (1.1.0)\n",
            "Requirement already satisfied: numpy==1.16.4 in /usr/local/lib/python3.6/dist-packages (from ceml) (1.16.4)\n",
            "Requirement already satisfied: scipy==1.4.1 in /usr/local/lib/python3.6/dist-packages (from ceml) (1.4.1)\n",
            "Requirement already satisfied: jaxlib==0.1.55 in /usr/local/lib/python3.6/dist-packages (from ceml) (0.1.55)\n",
            "Requirement already satisfied: tensorflow==2.2.1 in /usr/local/lib/python3.6/dist-packages (from ceml) (2.2.1)\n",
            "Requirement already satisfied: torch==1.6.0 in /usr/local/lib/python3.6/dist-packages (from ceml) (1.6.0+cu101)\n",
            "Requirement already satisfied: scikit-learn==0.23.2 in /usr/local/lib/python3.6/dist-packages (from ceml) (0.23.2)\n",
            "Requirement already satisfied: jax==0.2.0 in /usr/local/lib/python3.6/dist-packages (from ceml) (0.2.0)\n",
            "Requirement already satisfied: sklearn-lvq==1.1.1 in /usr/local/lib/python3.6/dist-packages (from ceml) (1.1.1)\n",
            "Requirement already satisfied: ecos>=2 in /usr/local/lib/python3.6/dist-packages (from cvxpy==1.1.0->ceml) (2.0.7.post1)\n",
            "Requirement already satisfied: osqp>=0.4.1 in /usr/local/lib/python3.6/dist-packages (from cvxpy==1.1.0->ceml) (0.6.1)\n",
            "Requirement already satisfied: scs>=1.1.3 in /usr/local/lib/python3.6/dist-packages (from cvxpy==1.1.0->ceml) (2.1.2)\n",
            "Requirement already satisfied: absl-py in /usr/local/lib/python3.6/dist-packages (from jaxlib==0.1.55->ceml) (0.10.0)\n",
            "Requirement already satisfied: keras-preprocessing>=1.1.0 in /usr/local/lib/python3.6/dist-packages (from tensorflow==2.2.1->ceml) (1.1.2)\n",
            "Requirement already satisfied: grpcio>=1.8.6 in /usr/local/lib/python3.6/dist-packages (from tensorflow==2.2.1->ceml) (1.32.0)\n",
            "Requirement already satisfied: wheel>=0.26; python_version >= \"3\" in /usr/local/lib/python3.6/dist-packages (from tensorflow==2.2.1->ceml) (0.35.1)\n",
            "Requirement already satisfied: h5py<2.11.0,>=2.10.0 in /usr/local/lib/python3.6/dist-packages (from tensorflow==2.2.1->ceml) (2.10.0)\n",
            "Requirement already satisfied: tensorboard<2.3.0,>=2.2.0 in /usr/local/lib/python3.6/dist-packages (from tensorflow==2.2.1->ceml) (2.2.2)\n",
            "Requirement already satisfied: wrapt>=1.11.1 in /usr/local/lib/python3.6/dist-packages (from tensorflow==2.2.1->ceml) (1.12.1)\n",
            "Requirement already satisfied: opt-einsum>=2.3.2 in /usr/local/lib/python3.6/dist-packages (from tensorflow==2.2.1->ceml) (3.3.0)\n",
            "Requirement already satisfied: google-pasta>=0.1.8 in /usr/local/lib/python3.6/dist-packages (from tensorflow==2.2.1->ceml) (0.2.0)\n",
            "Requirement already satisfied: six>=1.12.0 in /usr/local/lib/python3.6/dist-packages (from tensorflow==2.2.1->ceml) (1.15.0)\n",
            "Requirement already satisfied: tensorflow-estimator<2.3.0,>=2.2.0 in /usr/local/lib/python3.6/dist-packages (from tensorflow==2.2.1->ceml) (2.2.0)\n",
            "Requirement already satisfied: astunparse==1.6.3 in /usr/local/lib/python3.6/dist-packages (from tensorflow==2.2.1->ceml) (1.6.3)\n",
            "Requirement already satisfied: protobuf>=3.8.0 in /usr/local/lib/python3.6/dist-packages (from tensorflow==2.2.1->ceml) (3.12.4)\n",
            "Requirement already satisfied: termcolor>=1.1.0 in /usr/local/lib/python3.6/dist-packages (from tensorflow==2.2.1->ceml) (1.1.0)\n",
            "Requirement already satisfied: gast==0.3.3 in /usr/local/lib/python3.6/dist-packages (from tensorflow==2.2.1->ceml) (0.3.3)\n",
            "Requirement already satisfied: future in /usr/local/lib/python3.6/dist-packages (from torch==1.6.0->ceml) (0.16.0)\n",
            "Requirement already satisfied: joblib>=0.11 in /usr/local/lib/python3.6/dist-packages (from scikit-learn==0.23.2->ceml) (0.16.0)\n",
            "Requirement already satisfied: threadpoolctl>=2.0.0 in /usr/local/lib/python3.6/dist-packages (from scikit-learn==0.23.2->ceml) (2.1.0)\n",
            "Requirement already satisfied: requests<3,>=2.21.0 in /usr/local/lib/python3.6/dist-packages (from tensorboard<2.3.0,>=2.2.0->tensorflow==2.2.1->ceml) (2.23.0)\n",
            "Requirement already satisfied: markdown>=2.6.8 in /usr/local/lib/python3.6/dist-packages (from tensorboard<2.3.0,>=2.2.0->tensorflow==2.2.1->ceml) (3.2.2)\n",
            "Requirement already satisfied: tensorboard-plugin-wit>=1.6.0 in /usr/local/lib/python3.6/dist-packages (from tensorboard<2.3.0,>=2.2.0->tensorflow==2.2.1->ceml) (1.7.0)\n",
            "Requirement already satisfied: google-auth<2,>=1.6.3 in /usr/local/lib/python3.6/dist-packages (from tensorboard<2.3.0,>=2.2.0->tensorflow==2.2.1->ceml) (1.17.2)\n",
            "Requirement already satisfied: werkzeug>=0.11.15 in /usr/local/lib/python3.6/dist-packages (from tensorboard<2.3.0,>=2.2.0->tensorflow==2.2.1->ceml) (1.0.1)\n",
            "Requirement already satisfied: google-auth-oauthlib<0.5,>=0.4.1 in /usr/local/lib/python3.6/dist-packages (from tensorboard<2.3.0,>=2.2.0->tensorflow==2.2.1->ceml) (0.4.1)\n",
            "Requirement already satisfied: setuptools>=41.0.0 in /usr/local/lib/python3.6/dist-packages (from tensorboard<2.3.0,>=2.2.0->tensorflow==2.2.1->ceml) (50.3.0)\n",
            "Requirement already satisfied: idna<3,>=2.5 in /usr/local/lib/python3.6/dist-packages (from requests<3,>=2.21.0->tensorboard<2.3.0,>=2.2.0->tensorflow==2.2.1->ceml) (2.10)\n",
            "Requirement already satisfied: certifi>=2017.4.17 in /usr/local/lib/python3.6/dist-packages (from requests<3,>=2.21.0->tensorboard<2.3.0,>=2.2.0->tensorflow==2.2.1->ceml) (2020.6.20)\n",
            "Requirement already satisfied: chardet<4,>=3.0.2 in /usr/local/lib/python3.6/dist-packages (from requests<3,>=2.21.0->tensorboard<2.3.0,>=2.2.0->tensorflow==2.2.1->ceml) (3.0.4)\n",
            "Requirement already satisfied: urllib3!=1.25.0,!=1.25.1,<1.26,>=1.21.1 in /usr/local/lib/python3.6/dist-packages (from requests<3,>=2.21.0->tensorboard<2.3.0,>=2.2.0->tensorflow==2.2.1->ceml) (1.24.3)\n",
            "Requirement already satisfied: importlib-metadata; python_version < \"3.8\" in /usr/local/lib/python3.6/dist-packages (from markdown>=2.6.8->tensorboard<2.3.0,>=2.2.0->tensorflow==2.2.1->ceml) (2.0.0)\n",
            "Requirement already satisfied: cachetools<5.0,>=2.0.0 in /usr/local/lib/python3.6/dist-packages (from google-auth<2,>=1.6.3->tensorboard<2.3.0,>=2.2.0->tensorflow==2.2.1->ceml) (4.1.1)\n",
            "Requirement already satisfied: pyasn1-modules>=0.2.1 in /usr/local/lib/python3.6/dist-packages (from google-auth<2,>=1.6.3->tensorboard<2.3.0,>=2.2.0->tensorflow==2.2.1->ceml) (0.2.8)\n",
            "Requirement already satisfied: rsa<5,>=3.1.4; python_version >= \"3\" in /usr/local/lib/python3.6/dist-packages (from google-auth<2,>=1.6.3->tensorboard<2.3.0,>=2.2.0->tensorflow==2.2.1->ceml) (4.6)\n",
            "Requirement already satisfied: requests-oauthlib>=0.7.0 in /usr/local/lib/python3.6/dist-packages (from google-auth-oauthlib<0.5,>=0.4.1->tensorboard<2.3.0,>=2.2.0->tensorflow==2.2.1->ceml) (1.3.0)\n",
            "Requirement already satisfied: zipp>=0.5 in /usr/local/lib/python3.6/dist-packages (from importlib-metadata; python_version < \"3.8\"->markdown>=2.6.8->tensorboard<2.3.0,>=2.2.0->tensorflow==2.2.1->ceml) (3.2.0)\n",
            "Requirement already satisfied: pyasn1<0.5.0,>=0.4.6 in /usr/local/lib/python3.6/dist-packages (from pyasn1-modules>=0.2.1->google-auth<2,>=1.6.3->tensorboard<2.3.0,>=2.2.0->tensorflow==2.2.1->ceml) (0.4.8)\n",
            "Requirement already satisfied: oauthlib>=3.0.0 in /usr/local/lib/python3.6/dist-packages (from requests-oauthlib>=0.7.0->google-auth-oauthlib<0.5,>=0.4.1->tensorboard<2.3.0,>=2.2.0->tensorflow==2.2.1->ceml) (3.1.0)\n"
          ],
          "name": "stdout"
        }
      ]
    },
    {
      "cell_type": "code",
      "metadata": {
        "id": "7OZETDnALb3t"
      },
      "source": [
        "#Import Libraries\n",
        "import tensorflow as tf\n",
        "from tensorflow import keras\n",
        "import pandas as pd\n",
        "import numpy as np\n",
        "\n",
        "from sklearn.model_selection import train_test_split\n",
        "from sklearn.metrics import confusion_matrix, accuracy_score\n",
        "from sklearn.datasets import load_breast_cancer\n",
        "from sklearn.preprocessing import MinMaxScaler\n",
        "\n",
        "\n",
        "STATE = 42\n",
        "\n",
        "np.random.seed(STATE)\n",
        "tf.random.set_seed(STATE)"
      ],
      "execution_count": 2,
      "outputs": []
    },
    {
      "cell_type": "code",
      "metadata": {
        "id": "z6etBGJtLb3x"
      },
      "source": [
        "def disp_cf_results(cf):\n",
        "    \"\"\"Display counterfactual results nicely.\"\"\"\n",
        "    for feature, change in zip(features, cf['delta']):\n",
        "        if change != 0:\n",
        "            print(feature, change)"
      ],
      "execution_count": 3,
      "outputs": []
    },
    {
      "cell_type": "code",
      "metadata": {
        "id": "3DCQcaaKLb30"
      },
      "source": [
        "# Load data\n",
        "dataset = load_breast_cancer() \n",
        "X, y = dataset['data'], dataset['target']\n",
        "features = dataset['feature_names']\n",
        "\n",
        "X_train, X_test, y_train, y_test = train_test_split(X, y, test_size=0.33, random_state=STATE)\n",
        "\n",
        "scaler = MinMaxScaler()\n",
        "X_train = scaler.fit_transform(X_train)\n",
        "X_test = scaler.transform(X_test)"
      ],
      "execution_count": 4,
      "outputs": []
    },
    {
      "cell_type": "markdown",
      "metadata": {
        "id": "sz0mdvm4Lb33"
      },
      "source": [
        "## CEML\n",
        "\n",
        "More information on CEML is available at:\n",
        "\n",
        "*   https://github.com/andreArtelt/ceml\n",
        "\n",
        "\n",
        "More information on the Breast Cancer dataset is available at:\n",
        "\n",
        "* https://scikit-learn.org/stable/modules/generated/sklearn.datasets.load_breast_cancer.html#sklearn.datasets.load_breast_cancer"
      ]
    },
    {
      "cell_type": "code",
      "metadata": {
        "id": "Pmrw3AvaLb34"
      },
      "source": [
        "from ceml.backend.tensorflow.costfunctions import NegLogLikelihoodCost\n",
        "from ceml.model import ModelWithLoss\n",
        "\n",
        "\n",
        "class Model(ModelWithLoss):\n",
        "    def __init__(self, X):\n",
        "        super(Model, self).__init__()\n",
        "\n",
        "        self.model = keras.models.Sequential([\n",
        "            keras.layers.Input(shape=[X.shape[1],]),\n",
        "            keras.layers.Dense(16, activation='selu'),\n",
        "            keras.layers.Dense(8, activation='selu'),\n",
        "            keras.layers.Dense(2, activation='softmax'),\n",
        "        ])\n",
        "    \n",
        "    def fit(self, X_train, y_train, X_test, y_test, num_epochs=100):\n",
        "        self.model.compile(loss='sparse_categorical_crossentropy', optimizer='adam', \n",
        "                           metrics=['accuracy'])\n",
        "\n",
        "        self.model.fit(X_train, y_train, epochs=num_epochs, verbose=False,\n",
        "                       validation_data=(X_test, y_test))\n",
        "\n",
        "    def predict(self, x):\n",
        "        return np.argmax(self.model(x), axis=1)\n",
        "    \n",
        "    def predict_proba(self, x):\n",
        "        return self.model(x)\n",
        "    \n",
        "    def __call__(self, x):\n",
        "        return self.predict(x)\n",
        "\n",
        "    def get_loss(self, y_target, pred=None):\n",
        "        return NegLogLikelihoodCost(input_to_output=self.model.predict_proba, y_target=y_target)"
      ],
      "execution_count": 5,
      "outputs": []
    },
    {
      "cell_type": "code",
      "metadata": {
        "id": "epLReO84Lb36",
        "outputId": "99d7812e-a05a-42fd-fa9d-9a7d8f24cdf4",
        "colab": {
          "base_uri": "https://localhost:8080/",
          "height": 34
        }
      },
      "source": [
        "# Train a Neural Network\n",
        "nn = Model(X_train)\n",
        "nn.fit(X_train, y_train, X_test, y_test)\n",
        "\n",
        "y_pred = nn.predict(X_test)\n",
        "print(\"Model accuracy: {0}\".format(accuracy_score(y_test, y_pred)))"
      ],
      "execution_count": 6,
      "outputs": [
        {
          "output_type": "stream",
          "text": [
            "Model accuracy: 0.9787234042553191\n"
          ],
          "name": "stdout"
        }
      ]
    },
    {
      "cell_type": "code",
      "metadata": {
        "id": "uNxCmQBdLb3-",
        "outputId": "f60a875f-9c7f-4ebd-9c2c-0b3d8aacb673",
        "colab": {
          "base_uri": "https://localhost:8080/",
          "height": 409
        }
      },
      "source": [
        "# Generate_counterfactual\n",
        "\n",
        "#Import library\n",
        "from ceml.tfkeras import generate_counterfactual\n",
        "\n",
        "# Select data point for explaining its prediction\n",
        "x = X_test[1,:]\n",
        "instance_pred = nn.predict(np.array([x]))[0]\n",
        "print(\"Prediction on x: {0}\".format(instance_pred))\n",
        "\n",
        "optimizer = tf.compat.v1.train.GradientDescentOptimizer(learning_rate=1.0)    # Init optimization algorithm\n",
        "optimizer_args = {\"max_iter\": 1000}\n",
        "\n",
        "# Compute counterfactual\n",
        "cf = generate_counterfactual(\n",
        "    nn, \n",
        "    x, \n",
        "    y_target=(1-instance_pred), \n",
        "    features_whitelist=None,\n",
        "    regularization=\"l1\", \n",
        "    C=0.01, \n",
        "    optimizer=optimizer, \n",
        "    optimizer_args=optimizer_args\n",
        ")\n",
        "disp_cf_results(cf)"
      ],
      "execution_count": 7,
      "outputs": [
        {
          "output_type": "stream",
          "text": [
            "Prediction on x: 0\n"
          ],
          "name": "stdout"
        },
        {
          "output_type": "error",
          "ename": "Exception",
          "evalue": "ignored",
          "traceback": [
            "\u001b[0;31m---------------------------------------------------------------------------\u001b[0m",
            "\u001b[0;31mException\u001b[0m                                 Traceback (most recent call last)",
            "\u001b[0;32m<ipython-input-7-c70ac829fe1a>\u001b[0m in \u001b[0;36m<module>\u001b[0;34m()\u001b[0m\n\u001b[1;32m     21\u001b[0m     \u001b[0mC\u001b[0m\u001b[0;34m=\u001b[0m\u001b[0;36m0.01\u001b[0m\u001b[0;34m,\u001b[0m\u001b[0;34m\u001b[0m\u001b[0;34m\u001b[0m\u001b[0m\n\u001b[1;32m     22\u001b[0m     \u001b[0moptimizer\u001b[0m\u001b[0;34m=\u001b[0m\u001b[0moptimizer\u001b[0m\u001b[0;34m,\u001b[0m\u001b[0;34m\u001b[0m\u001b[0;34m\u001b[0m\u001b[0m\n\u001b[0;32m---> 23\u001b[0;31m     \u001b[0moptimizer_args\u001b[0m\u001b[0;34m=\u001b[0m\u001b[0moptimizer_args\u001b[0m\u001b[0;34m\u001b[0m\u001b[0;34m\u001b[0m\u001b[0m\n\u001b[0m\u001b[1;32m     24\u001b[0m )\n\u001b[1;32m     25\u001b[0m \u001b[0mdisp_cf_results\u001b[0m\u001b[0;34m(\u001b[0m\u001b[0mcf\u001b[0m\u001b[0;34m)\u001b[0m\u001b[0;34m\u001b[0m\u001b[0;34m\u001b[0m\u001b[0m\n",
            "\u001b[0;32m/usr/local/lib/python3.6/dist-packages/ceml/tfkeras/counterfactual.py\u001b[0m in \u001b[0;36mgenerate_counterfactual\u001b[0;34m(model, x, y_target, features_whitelist, regularization, C, optimizer, optimizer_args, return_as_dict, done)\u001b[0m\n\u001b[1;32m    271\u001b[0m     \u001b[0mcf\u001b[0m \u001b[0;34m=\u001b[0m \u001b[0mTfCounterfactual\u001b[0m\u001b[0;34m(\u001b[0m\u001b[0mmodel\u001b[0m\u001b[0;34m)\u001b[0m\u001b[0;34m\u001b[0m\u001b[0;34m\u001b[0m\u001b[0m\n\u001b[1;32m    272\u001b[0m \u001b[0;34m\u001b[0m\u001b[0m\n\u001b[0;32m--> 273\u001b[0;31m     \u001b[0;32mreturn\u001b[0m \u001b[0mcf\u001b[0m\u001b[0;34m.\u001b[0m\u001b[0mcompute_counterfactual\u001b[0m\u001b[0;34m(\u001b[0m\u001b[0mx\u001b[0m\u001b[0;34m,\u001b[0m \u001b[0my_target\u001b[0m\u001b[0;34m,\u001b[0m \u001b[0mfeatures_whitelist\u001b[0m\u001b[0;34m,\u001b[0m \u001b[0mregularization\u001b[0m\u001b[0;34m,\u001b[0m \u001b[0mC\u001b[0m\u001b[0;34m,\u001b[0m \u001b[0moptimizer\u001b[0m\u001b[0;34m,\u001b[0m \u001b[0moptimizer_args\u001b[0m\u001b[0;34m,\u001b[0m \u001b[0mreturn_as_dict\u001b[0m\u001b[0;34m,\u001b[0m \u001b[0mdone\u001b[0m\u001b[0;34m)\u001b[0m\u001b[0;34m\u001b[0m\u001b[0;34m\u001b[0m\u001b[0m\n\u001b[0m",
            "\u001b[0;32m/usr/local/lib/python3.6/dist-packages/ceml/tfkeras/counterfactual.py\u001b[0m in \u001b[0;36mcompute_counterfactual\u001b[0;34m(self, x, y_target, features_whitelist, regularization, C, optimizer, optimizer_args, return_as_dict, done)\u001b[0m\n\u001b[1;32m    189\u001b[0m                     \u001b[0;32mreturn\u001b[0m \u001b[0mx_cf\u001b[0m\u001b[0;34m,\u001b[0m \u001b[0my_cf\u001b[0m\u001b[0;34m,\u001b[0m \u001b[0mdelta\u001b[0m\u001b[0;34m\u001b[0m\u001b[0;34m\u001b[0m\u001b[0m\n\u001b[1;32m    190\u001b[0m \u001b[0;34m\u001b[0m\u001b[0m\n\u001b[0;32m--> 191\u001b[0;31m         \u001b[0;32mraise\u001b[0m \u001b[0mException\u001b[0m\u001b[0;34m(\u001b[0m\u001b[0;34m\"No counterfactual found - Consider changing parameters 'C', 'regularization', 'features_whitelist', 'optimizer' and try again\"\u001b[0m\u001b[0;34m)\u001b[0m\u001b[0;34m\u001b[0m\u001b[0;34m\u001b[0m\u001b[0m\n\u001b[0m\u001b[1;32m    192\u001b[0m \u001b[0;34m\u001b[0m\u001b[0m\n\u001b[1;32m    193\u001b[0m \u001b[0;34m\u001b[0m\u001b[0m\n",
            "\u001b[0;31mException\u001b[0m: No counterfactual found - Consider changing parameters 'C', 'regularization', 'features_whitelist', 'optimizer' and try again"
          ]
        }
      ]
    },
    {
      "cell_type": "markdown",
      "metadata": {
        "id": "2B_y0Fp7PZLc"
      },
      "source": [
        "The model was unable to find any counterfactuals on a Neural Network."
      ]
    },
    {
      "cell_type": "markdown",
      "metadata": {
        "id": "s42irFgqLb4B"
      },
      "source": [
        "## Random Forest Classifier"
      ]
    },
    {
      "cell_type": "code",
      "metadata": {
        "id": "ukZ6LWD5Nqm-"
      },
      "source": [
        "from sklearn.tree import DecisionTreeClassifier\n",
        "from sklearn.linear_model import LogisticRegression\n",
        "from sklearn.ensemble import RandomForestClassifier\n",
        "from ceml.sklearn import generate_counterfactual\n",
        "import matplotlib.pyplot as plt"
      ],
      "execution_count": 8,
      "outputs": []
    },
    {
      "cell_type": "code",
      "metadata": {
        "id": "-C18FmUBLb4B",
        "outputId": "40f1c1bc-4143-4b23-c2ea-0535813c8062",
        "colab": {
          "base_uri": "https://localhost:8080/",
          "height": 119
        }
      },
      "source": [
        "# Whitelist of features - list of features we can change/use when computing a counterfactual \n",
        "features_whitelist = None   # We can use all features\n",
        "\n",
        "# Create model\n",
        "model = RandomForestClassifier(n_estimators=3, max_depth=3, random_state=STATE)\n",
        "\n",
        "# Fit model\n",
        "model.fit(X_train, y_train)\n",
        "print('Model accuracy = ', model.score(X_test, y_test))\n",
        "\n",
        "# Select data point for explaining its prediction\n",
        "x = X_test[0,:]\n",
        "instance_pred = model.predict([x])[0]\n",
        "print(\"Prediction on x: {0}\".format(instance_pred))\n",
        "\n",
        "# Compute counterfactual\n",
        "cf = generate_counterfactual(model, x, y_target=(1-instance_pred), \n",
        "                             features_whitelist=features_whitelist)\n",
        "\n",
        "disp_cf_results(cf)"
      ],
      "execution_count": 9,
      "outputs": [
        {
          "output_type": "stream",
          "text": [
            "Model accuracy =  0.9308510638297872\n",
            "Prediction on x: 1\n"
          ],
          "name": "stdout"
        },
        {
          "output_type": "stream",
          "text": [
            "/usr/local/lib/python3.6/dist-packages/jax/lib/xla_bridge.py:130: UserWarning: No GPU/TPU found, falling back to CPU.\n",
            "  warnings.warn('No GPU/TPU found, falling back to CPU.')\n"
          ],
          "name": "stderr"
        },
        {
          "output_type": "stream",
          "text": [
            "radius error -0.08150556954896002\n",
            "worst concavity 0.006817608746416126\n"
          ],
          "name": "stdout"
        }
      ]
    },
    {
      "cell_type": "markdown",
      "metadata": {
        "id": "ihx5rRoxLb4F"
      },
      "source": [
        "### Timing Random Forest classifier"
      ]
    },
    {
      "cell_type": "code",
      "metadata": {
        "id": "_yROC8uOLb4F",
        "outputId": "06cf21cf-6160-4871-8aa9-0e4569a56cd7",
        "colab": {
          "base_uri": "https://localhost:8080/",
          "height": 204
        }
      },
      "source": [
        "import time\n",
        "\n",
        "x = X_test[0,:]\n",
        "instance_pred = model.predict([x])[0]\n",
        "\n",
        "results = []\n",
        "\n",
        "for n_estimators in [3, 5, 10, 20, 25, 30, 40]:\n",
        "    # create and fit RF\n",
        "    rf = RandomForestClassifier(n_estimators=n_estimators, max_depth=3, \n",
        "                                random_state=STATE)\n",
        "    rf.fit(X_train, y_train)\n",
        "    score = rf.score(X_test, y_test)\n",
        "    \n",
        "    s = time.time()\n",
        "    try:\n",
        "        # try gen cf\n",
        "        cf = generate_counterfactual(rf, x, y_target=(1-instance_pred), \n",
        "                                     features_whitelist=None)\n",
        "        cf_found = True\n",
        "    except Exception as e:\n",
        "        print(e)\n",
        "        cf_found = False\n",
        "    time_elapsed = time.time() - s\n",
        "    \n",
        "    results.append([n_estimators, score, cf_found, time_elapsed])\n",
        "\n",
        "results"
      ],
      "execution_count": 10,
      "outputs": [
        {
          "output_type": "stream",
          "text": [
            "No counterfactual found - Consider changing parameters 'C', 'regularization', 'features_whitelist', 'optimizer' and try again\n",
            "No counterfactual found - Consider changing parameters 'C', 'regularization', 'features_whitelist', 'optimizer' and try again\n",
            "No counterfactual found - Consider changing parameters 'C', 'regularization', 'features_whitelist', 'optimizer' and try again\n",
            "No counterfactual found - Consider changing parameters 'C', 'regularization', 'features_whitelist', 'optimizer' and try again\n"
          ],
          "name": "stdout"
        },
        {
          "output_type": "execute_result",
          "data": {
            "text/plain": [
              "[[3, 0.9308510638297872, True, 9.438051462173462],\n",
              " [5, 0.9361702127659575, True, 30.158893585205078],\n",
              " [10, 0.9202127659574468, True, 31.97043228149414],\n",
              " [20, 0.9414893617021277, False, 396.575936794281],\n",
              " [25, 0.9468085106382979, False, 546.722912311554],\n",
              " [30, 0.9574468085106383, False, 741.9721064567566],\n",
              " [40, 0.9414893617021277, False, 2046.413661956787]]"
            ]
          },
          "metadata": {
            "tags": []
          },
          "execution_count": 10
        }
      ]
    },
    {
      "cell_type": "code",
      "metadata": {
        "id": "MbXA9PkGLb4I"
      },
      "source": [
        "results = [\n",
        " [3, 0.9308510638297872, True, 5.0919108390808105],\n",
        " [5, 0.9361702127659575, True, 16.53546690940857],\n",
        " [10, 0.9202127659574468, True, 19.168144941329956],\n",
        " [20, 0.9414893617021277, False, 255.7807731628418],\n",
        " [25, 0.9468085106382979, False, 357.21237993240356],\n",
        " [30, 0.9574468085106383, False, 529.0565738677979],\n",
        " [40, 0.9414893617021277, False, 1451.4815938472748]\n",
        "]"
      ],
      "execution_count": 11,
      "outputs": []
    },
    {
      "cell_type": "code",
      "metadata": {
        "id": "EqWjR_XsLb4L",
        "outputId": "0f16c29c-25bb-44af-9470-c84b8771feb9",
        "colab": {
          "base_uri": "https://localhost:8080/",
          "height": 266
        }
      },
      "source": [
        "df = pd.DataFrame(results, columns=['n_estimators', 'accuracy', 'found_cf', 'compute_time'])\n",
        "df"
      ],
      "execution_count": 12,
      "outputs": [
        {
          "output_type": "execute_result",
          "data": {
            "text/html": [
              "<div>\n",
              "<style scoped>\n",
              "    .dataframe tbody tr th:only-of-type {\n",
              "        vertical-align: middle;\n",
              "    }\n",
              "\n",
              "    .dataframe tbody tr th {\n",
              "        vertical-align: top;\n",
              "    }\n",
              "\n",
              "    .dataframe thead th {\n",
              "        text-align: right;\n",
              "    }\n",
              "</style>\n",
              "<table border=\"1\" class=\"dataframe\">\n",
              "  <thead>\n",
              "    <tr style=\"text-align: right;\">\n",
              "      <th></th>\n",
              "      <th>n_estimators</th>\n",
              "      <th>accuracy</th>\n",
              "      <th>found_cf</th>\n",
              "      <th>compute_time</th>\n",
              "    </tr>\n",
              "  </thead>\n",
              "  <tbody>\n",
              "    <tr>\n",
              "      <th>0</th>\n",
              "      <td>3</td>\n",
              "      <td>0.930851</td>\n",
              "      <td>True</td>\n",
              "      <td>5.091911</td>\n",
              "    </tr>\n",
              "    <tr>\n",
              "      <th>1</th>\n",
              "      <td>5</td>\n",
              "      <td>0.936170</td>\n",
              "      <td>True</td>\n",
              "      <td>16.535467</td>\n",
              "    </tr>\n",
              "    <tr>\n",
              "      <th>2</th>\n",
              "      <td>10</td>\n",
              "      <td>0.920213</td>\n",
              "      <td>True</td>\n",
              "      <td>19.168145</td>\n",
              "    </tr>\n",
              "    <tr>\n",
              "      <th>3</th>\n",
              "      <td>20</td>\n",
              "      <td>0.941489</td>\n",
              "      <td>False</td>\n",
              "      <td>255.780773</td>\n",
              "    </tr>\n",
              "    <tr>\n",
              "      <th>4</th>\n",
              "      <td>25</td>\n",
              "      <td>0.946809</td>\n",
              "      <td>False</td>\n",
              "      <td>357.212380</td>\n",
              "    </tr>\n",
              "    <tr>\n",
              "      <th>5</th>\n",
              "      <td>30</td>\n",
              "      <td>0.957447</td>\n",
              "      <td>False</td>\n",
              "      <td>529.056574</td>\n",
              "    </tr>\n",
              "    <tr>\n",
              "      <th>6</th>\n",
              "      <td>40</td>\n",
              "      <td>0.941489</td>\n",
              "      <td>False</td>\n",
              "      <td>1451.481594</td>\n",
              "    </tr>\n",
              "  </tbody>\n",
              "</table>\n",
              "</div>"
            ],
            "text/plain": [
              "   n_estimators  accuracy  found_cf  compute_time\n",
              "0             3  0.930851      True      5.091911\n",
              "1             5  0.936170      True     16.535467\n",
              "2            10  0.920213      True     19.168145\n",
              "3            20  0.941489     False    255.780773\n",
              "4            25  0.946809     False    357.212380\n",
              "5            30  0.957447     False    529.056574\n",
              "6            40  0.941489     False   1451.481594"
            ]
          },
          "metadata": {
            "tags": []
          },
          "execution_count": 12
        }
      ]
    },
    {
      "cell_type": "code",
      "metadata": {
        "id": "Pb_4EjpRLb4O",
        "outputId": "a0f1ca21-22f4-42b5-a9b4-845aac18ad3b",
        "colab": {
          "base_uri": "https://localhost:8080/",
          "height": 295
        }
      },
      "source": [
        "import matplotlib.pyplot as plt\n",
        "\n",
        "plt.plot(df['n_estimators'], df['compute_time'])\n",
        "plt.scatter(df['n_estimators'].iloc[:3], df['compute_time'].iloc[:3], marker='o', label='CFs found')\n",
        "plt.scatter(df['n_estimators'].iloc[3:], df['compute_time'].iloc[3:], marker='x', color='red', \n",
        "            label='CFs not found')\n",
        "plt.title('CEML counterfactual compute time vs number of estimators')\n",
        "plt.xlabel('Number of ensemble estimators')\n",
        "plt.ylabel('Time (Seconds)')\n",
        "plt.legend()\n",
        "plt.savefig('rf-ceml-results.pdf')"
      ],
      "execution_count": 13,
      "outputs": [
        {
          "output_type": "display_data",
          "data": {
            "image/png": "[encoded data removed]",
            "text/plain": [
              "<Figure size 432x288 with 1 Axes>"
            ]
          },
          "metadata": {
            "tags": [],
            "needs_background": "light"
          }
        }
      ]
    },
    {
      "cell_type": "code",
      "metadata": {
        "id": "-NtNhnIILb4Q"
      },
      "source": [
        ""
      ],
      "execution_count": null,
      "outputs": []
    }
  ]
}