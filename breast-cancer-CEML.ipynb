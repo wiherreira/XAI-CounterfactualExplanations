{
 "cells": [
  {
   "cell_type": "code",
   "execution_count": 82,
   "metadata": {},
   "outputs": [],
   "source": [
    "import tensorflow as tf\n",
    "from tensorflow import keras\n",
    "import pandas as pd\n",
    "import numpy as np\n",
    "\n",
    "from sklearn.model_selection import train_test_split\n",
    "from sklearn.metrics import confusion_matrix, accuracy_score\n",
    "from sklearn.datasets import load_breast_cancer\n",
    "from sklearn.tree import DecisionTreeClassifier\n",
    "\n",
    "\n",
    "STATE = 42\n",
    "\n",
    "np.random.seed(STATE)\n",
    "tf.random.set_seed(STATE)"
   ]
  },
  {
   "cell_type": "code",
   "execution_count": 83,
   "metadata": {},
   "outputs": [],
   "source": [
    "def disp_cf_results(cf):\n",
    "    \"\"\"Display counterfactual results nicely.\"\"\"\n",
    "    for feature, change in zip(features, cf['delta']):\n",
    "        if change != 0:\n",
    "            print(feature, change)\n",
    "            \n",
    "            \n",
    "# Load data\n",
    "dataset = load_breast_cancer() \n",
    "X, y = dataset['data'], dataset['target']\n",
    "features = dataset['feature_names']\n",
    "\n",
    "X_train, X_test, y_train, y_test = train_test_split(X, y, test_size=0.33, random_state=STATE)"
   ]
  },
  {
   "cell_type": "markdown",
   "metadata": {},
   "source": [
    "## CEML\n",
    "https://github.com/andreArtelt/ceml\n",
    "https://scikit-learn.org/stable/modules/generated/sklearn.datasets.load_breast_cancer.html#sklearn.datasets.load_breast_cancer"
   ]
  },
  {
   "cell_type": "code",
   "execution_count": 84,
   "metadata": {},
   "outputs": [],
   "source": [
    "from ceml.tfkeras import generate_counterfactual\n",
    "from ceml.backend.tensorflow.costfunctions import NegLogLikelihoodCost\n",
    "from ceml.model import ModelWithLoss\n",
    "\n",
    "\n",
    "class Model(ModelWithLoss):\n",
    "    def __init__(self, X):\n",
    "        super(Model, self).__init__()\n",
    "\n",
    "        self.model = keras.models.Sequential([\n",
    "            keras.layers.Input(shape=[X.shape[1],]),\n",
    "            keras.layers.Dense(16, activation='selu'),\n",
    "            keras.layers.Dense(8, activation='selu'),\n",
    "            keras.layers.Dense(1, activation='sigmoid'),\n",
    "        ])\n",
    "    \n",
    "    def fit(self, X_train, y_train, X_test, y_test, num_epochs=100):\n",
    "        self.model.compile(loss='binary_crossentropy', optimizer='adam', \n",
    "                           metrics=['accuracy'])\n",
    "\n",
    "        self.model.fit(X_train, y_train, epochs=num_epochs, verbose=False,\n",
    "                       validation_data=(X_test, y_test))\n",
    "\n",
    "    def predict(self, x):\n",
    "        return (self.predict_proba(x) > 0.5).astype(int)\n",
    "    \n",
    "    def predict_proba(self, x):\n",
    "        return self.model(x).numpy().reshape(-1,)\n",
    "    \n",
    "    def __call__(self, x):\n",
    "        return self.predict(x)\n",
    "\n",
    "    def get_loss(self, y_target, pred=None):\n",
    "        return NegLogLikelihoodCost(input_to_output=self.model.predict_proba, y_target=y_target)"
   ]
  },
  {
   "cell_type": "code",
   "execution_count": 85,
   "metadata": {},
   "outputs": [
    {
     "name": "stdout",
     "output_type": "stream",
     "text": [
      "Model accuracy: 0.9574468085106383\n"
     ]
    }
   ],
   "source": [
    "model = Model(X_train)\n",
    "model.fit(X_train, y_train, X_test, y_test)\n",
    "\n",
    "y_pred = model.predict(X_test)\n",
    "print(\"Model accuracy: {0}\".format(accuracy_score(y_test, y_pred)))"
   ]
  },
  {
   "cell_type": "code",
   "execution_count": 97,
   "metadata": {},
   "outputs": [
    {
     "name": "stdout",
     "output_type": "stream",
     "text": [
      "Prediction on x: 0\n"
     ]
    },
    {
     "ename": "Exception",
     "evalue": "No counterfactual found - Consider changing parameters 'C', 'regularization', 'features_whitelist', 'optimizer' and try again",
     "output_type": "error",
     "traceback": [
      "\u001b[0;31m---------------------------------------------------------------------------\u001b[0m",
      "\u001b[0;31mException\u001b[0m                                 Traceback (most recent call last)",
      "\u001b[0;32m<ipython-input-97-be94a3babbad>\u001b[0m in \u001b[0;36m<module>\u001b[0;34m\u001b[0m\n\u001b[1;32m     16\u001b[0m     \u001b[0mC\u001b[0m\u001b[0;34m=\u001b[0m\u001b[0;36m0.1\u001b[0m\u001b[0;34m,\u001b[0m\u001b[0;34m\u001b[0m\u001b[0;34m\u001b[0m\u001b[0m\n\u001b[1;32m     17\u001b[0m     \u001b[0moptimizer\u001b[0m\u001b[0;34m=\u001b[0m\u001b[0moptimizer\u001b[0m\u001b[0;34m,\u001b[0m\u001b[0;34m\u001b[0m\u001b[0;34m\u001b[0m\u001b[0m\n\u001b[0;32m---> 18\u001b[0;31m     \u001b[0moptimizer_args\u001b[0m\u001b[0;34m=\u001b[0m\u001b[0moptimizer_args\u001b[0m\u001b[0;34m\u001b[0m\u001b[0;34m\u001b[0m\u001b[0m\n\u001b[0m\u001b[1;32m     19\u001b[0m )\n\u001b[1;32m     20\u001b[0m \u001b[0mdisp_cf_results\u001b[0m\u001b[0;34m(\u001b[0m\u001b[0mcf\u001b[0m\u001b[0;34m)\u001b[0m\u001b[0;34m\u001b[0m\u001b[0;34m\u001b[0m\u001b[0m\n",
      "\u001b[0;32m~/.pyenv/versions/3.7.8/lib/python3.7/site-packages/ceml/tfkeras/counterfactual.py\u001b[0m in \u001b[0;36mgenerate_counterfactual\u001b[0;34m(model, x, y_target, features_whitelist, regularization, C, optimizer, optimizer_args, return_as_dict, done)\u001b[0m\n\u001b[1;32m    271\u001b[0m     \u001b[0mcf\u001b[0m \u001b[0;34m=\u001b[0m \u001b[0mTfCounterfactual\u001b[0m\u001b[0;34m(\u001b[0m\u001b[0mmodel\u001b[0m\u001b[0;34m)\u001b[0m\u001b[0;34m\u001b[0m\u001b[0;34m\u001b[0m\u001b[0m\n\u001b[1;32m    272\u001b[0m \u001b[0;34m\u001b[0m\u001b[0m\n\u001b[0;32m--> 273\u001b[0;31m     \u001b[0;32mreturn\u001b[0m \u001b[0mcf\u001b[0m\u001b[0;34m.\u001b[0m\u001b[0mcompute_counterfactual\u001b[0m\u001b[0;34m(\u001b[0m\u001b[0mx\u001b[0m\u001b[0;34m,\u001b[0m \u001b[0my_target\u001b[0m\u001b[0;34m,\u001b[0m \u001b[0mfeatures_whitelist\u001b[0m\u001b[0;34m,\u001b[0m \u001b[0mregularization\u001b[0m\u001b[0;34m,\u001b[0m \u001b[0mC\u001b[0m\u001b[0;34m,\u001b[0m \u001b[0moptimizer\u001b[0m\u001b[0;34m,\u001b[0m \u001b[0moptimizer_args\u001b[0m\u001b[0;34m,\u001b[0m \u001b[0mreturn_as_dict\u001b[0m\u001b[0;34m,\u001b[0m \u001b[0mdone\u001b[0m\u001b[0;34m)\u001b[0m\u001b[0;34m\u001b[0m\u001b[0;34m\u001b[0m\u001b[0m\n\u001b[0m",
      "\u001b[0;32m~/.pyenv/versions/3.7.8/lib/python3.7/site-packages/ceml/tfkeras/counterfactual.py\u001b[0m in \u001b[0;36mcompute_counterfactual\u001b[0;34m(self, x, y_target, features_whitelist, regularization, C, optimizer, optimizer_args, return_as_dict, done)\u001b[0m\n\u001b[1;32m    189\u001b[0m                     \u001b[0;32mreturn\u001b[0m \u001b[0mx_cf\u001b[0m\u001b[0;34m,\u001b[0m \u001b[0my_cf\u001b[0m\u001b[0;34m,\u001b[0m \u001b[0mdelta\u001b[0m\u001b[0;34m\u001b[0m\u001b[0;34m\u001b[0m\u001b[0m\n\u001b[1;32m    190\u001b[0m \u001b[0;34m\u001b[0m\u001b[0m\n\u001b[0;32m--> 191\u001b[0;31m         \u001b[0;32mraise\u001b[0m \u001b[0mException\u001b[0m\u001b[0;34m(\u001b[0m\u001b[0;34m\"No counterfactual found - Consider changing parameters 'C', 'regularization', 'features_whitelist', 'optimizer' and try again\"\u001b[0m\u001b[0;34m)\u001b[0m\u001b[0;34m\u001b[0m\u001b[0;34m\u001b[0m\u001b[0m\n\u001b[0m\u001b[1;32m    192\u001b[0m \u001b[0;34m\u001b[0m\u001b[0m\n\u001b[1;32m    193\u001b[0m \u001b[0;34m\u001b[0m\u001b[0m\n",
      "\u001b[0;31mException\u001b[0m: No counterfactual found - Consider changing parameters 'C', 'regularization', 'features_whitelist', 'optimizer' and try again"
     ]
    }
   ],
   "source": [
    "# Select data point for explaining its prediction\n",
    "x = X_test[1,:]\n",
    "instance_pred = model.predict(np.array([x]))[0]\n",
    "print(\"Prediction on x: {0}\".format(instance_pred))\n",
    "\n",
    "optimizer = tf.compat.v1.train.GradientDescentOptimizer(learning_rate=1.0)    # Init optimization algorithm\n",
    "optimizer_args = {\"max_iter\": 5000}\n",
    "\n",
    "# Compute counterfactual\n",
    "cf = generate_counterfactual(\n",
    "    model, \n",
    "    x, \n",
    "    y_target=(1-instance_pred), \n",
    "    features_whitelist=None,\n",
    "    regularization=\"l1\", \n",
    "    C=0.1, \n",
    "    optimizer=optimizer, \n",
    "    optimizer_args=optimizer_args\n",
    ")\n",
    "disp_cf_results(cf)"
   ]
  },
  {
   "cell_type": "markdown",
   "metadata": {},
   "source": [
    "## Decision Tree"
   ]
  },
  {
   "cell_type": "code",
   "execution_count": 15,
   "metadata": {},
   "outputs": [
    {
     "name": "stdout",
     "output_type": "stream",
     "text": [
      "Model accuracy =  0.9574468085106383\n",
      "Prediction on x: 0\n",
      "worst concavity 0.05250999846220017\n"
     ]
    }
   ],
   "source": [
    "from ceml.sklearn import generate_counterfactual\n",
    "\n",
    "# Whitelist of features - list of features we can change/use when computing a counterfactual \n",
    "features_whitelist = None   # We can use all features\n",
    "\n",
    "# Create and fit model\n",
    "model = DecisionTreeClassifier(max_depth=3, random_state=STATE)\n",
    "model.fit(X_train, y_train)\n",
    "print('Model accuracy = ', accuracy_score(y_test, model.predict(X_test)))\n",
    "\n",
    "# Select data point for explaining its prediction\n",
    "x = X_test[1,:]\n",
    "instance_pred = model.predict([x])[0]\n",
    "print(\"Prediction on x: {0}\".format(instance_pred))\n",
    "\n",
    "# Compute counterfactual\n",
    "cf = generate_counterfactual(model, x, y_target=(1-instance_pred), \n",
    "                             features_whitelist=features_whitelist)\n",
    "\n",
    "disp_cf_results(cf)"
   ]
  },
  {
   "cell_type": "code",
   "execution_count": null,
   "metadata": {},
   "outputs": [],
   "source": []
  },
  {
   "cell_type": "code",
   "execution_count": null,
   "metadata": {},
   "outputs": [],
   "source": []
  }
 ],
 "metadata": {
  "kernelspec": {
   "display_name": "Python 3",
   "language": "python",
   "name": "python3"
  },
  "language_info": {
   "codemirror_mode": {
    "name": "ipython",
    "version": 3
   },
   "file_extension": ".py",
   "mimetype": "text/x-python",
   "name": "python",
   "nbconvert_exporter": "python",
   "pygments_lexer": "ipython3",
   "version": "3.7.8"
  }
 },
 "nbformat": 4,
 "nbformat_minor": 4
}
