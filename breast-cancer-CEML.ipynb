{
 "cells": [
  {
   "cell_type": "code",
   "execution_count": 1,
   "metadata": {},
   "outputs": [],
   "source": [
    "import tensorflow as tf\n",
    "from tensorflow import keras\n",
    "import pandas as pd\n",
    "import numpy as np\n",
    "\n",
    "from sklearn.model_selection import train_test_split\n",
    "from sklearn.metrics import confusion_matrix, accuracy_score\n",
    "from sklearn.datasets import load_breast_cancer\n",
    "from sklearn.preprocessing import MinMaxScaler\n",
    "\n",
    "\n",
    "STATE = 42\n",
    "\n",
    "np.random.seed(STATE)\n",
    "tf.random.set_seed(STATE)"
   ]
  },
  {
   "cell_type": "code",
   "execution_count": 2,
   "metadata": {},
   "outputs": [],
   "source": [
    "def disp_cf_results(cf):\n",
    "    \"\"\"Display counterfactual results nicely.\"\"\"\n",
    "    for feature, change in zip(features, cf['delta']):\n",
    "        if change != 0:\n",
    "            print(feature, change)"
   ]
  },
  {
   "cell_type": "code",
   "execution_count": 3,
   "metadata": {},
   "outputs": [],
   "source": [
    "# Load data\n",
    "dataset = load_breast_cancer() \n",
    "X, y = dataset['data'], dataset['target']\n",
    "features = dataset['feature_names']\n",
    "\n",
    "X_train, X_test, y_train, y_test = train_test_split(X, y, test_size=0.33, random_state=STATE)\n",
    "\n",
    "scaler = MinMaxScaler()\n",
    "X_train = scaler.fit_transform(X_train)\n",
    "X_test = scaler.transform(X_test)"
   ]
  },
  {
   "cell_type": "markdown",
   "metadata": {},
   "source": [
    "## CEML\n",
    "https://github.com/andreArtelt/ceml\n",
    "\n",
    "https://scikit-learn.org/stable/modules/generated/sklearn.datasets.load_breast_cancer.html#sklearn.datasets.load_breast_cancer"
   ]
  },
  {
   "cell_type": "code",
   "execution_count": 4,
   "metadata": {},
   "outputs": [],
   "source": [
    "from ceml.backend.tensorflow.costfunctions import NegLogLikelihoodCost\n",
    "from ceml.model import ModelWithLoss\n",
    "\n",
    "\n",
    "class Model(ModelWithLoss):\n",
    "    def __init__(self, X):\n",
    "        super(Model, self).__init__()\n",
    "\n",
    "        self.model = keras.models.Sequential([\n",
    "            keras.layers.Input(shape=[X.shape[1],]),\n",
    "            keras.layers.Dense(16, activation='selu'),\n",
    "            keras.layers.Dense(8, activation='selu'),\n",
    "            keras.layers.Dense(2, activation='softmax'),\n",
    "        ])\n",
    "    \n",
    "    def fit(self, X_train, y_train, X_test, y_test, num_epochs=100):\n",
    "        self.model.compile(loss='sparse_categorical_crossentropy', optimizer='adam', \n",
    "                           metrics=['accuracy'])\n",
    "\n",
    "        self.model.fit(X_train, y_train, epochs=num_epochs, verbose=False,\n",
    "                       validation_data=(X_test, y_test))\n",
    "\n",
    "    def predict(self, x):\n",
    "        return np.argmax(self.model(x), axis=1)\n",
    "    \n",
    "    def predict_proba(self, x):\n",
    "        return self.model(x)\n",
    "    \n",
    "    def __call__(self, x):\n",
    "        return self.predict(x)\n",
    "\n",
    "    def get_loss(self, y_target, pred=None):\n",
    "        return NegLogLikelihoodCost(input_to_output=self.model.predict_proba, y_target=y_target)"
   ]
  },
  {
   "cell_type": "code",
   "execution_count": 5,
   "metadata": {},
   "outputs": [
    {
     "name": "stdout",
     "output_type": "stream",
     "text": [
      "Model accuracy: 0.9787234042553191\n"
     ]
    }
   ],
   "source": [
    "nn = Model(X_train)\n",
    "nn.fit(X_train, y_train, X_test, y_test)\n",
    "\n",
    "y_pred = nn.predict(X_test)\n",
    "print(\"Model accuracy: {0}\".format(accuracy_score(y_test, y_pred)))"
   ]
  },
  {
   "cell_type": "code",
   "execution_count": null,
   "metadata": {},
   "outputs": [],
   "source": [
    "from ceml.tfkeras import generate_counterfactual\n",
    "\n",
    "# Select data point for explaining its prediction\n",
    "x = X_test[1,:]\n",
    "instance_pred = nn.predict(np.array([x]))[0]\n",
    "print(\"Prediction on x: {0}\".format(instance_pred))\n",
    "\n",
    "optimizer = tf.compat.v1.train.GradientDescentOptimizer(learning_rate=1.0)    # Init optimization algorithm\n",
    "optimizer_args = {\"max_iter\": 1000}\n",
    "\n",
    "# Compute counterfactual\n",
    "cf = generate_counterfactual(\n",
    "    nn, \n",
    "    x, \n",
    "    y_target=(1-instance_pred), \n",
    "    features_whitelist=None,\n",
    "    regularization=\"l1\", \n",
    "    C=0.01, \n",
    "    optimizer=optimizer, \n",
    "    optimizer_args=optimizer_args\n",
    ")\n",
    "disp_cf_results(cf)"
   ]
  },
  {
   "cell_type": "markdown",
   "metadata": {},
   "source": [
    "## Scikit-Learn model "
   ]
  },
  {
   "cell_type": "code",
   "execution_count": 21,
   "metadata": {},
   "outputs": [
    {
     "name": "stdout",
     "output_type": "stream",
     "text": [
      "Model accuracy =  0.9308510638297872\n",
      "Prediction on x: 1\n"
     ]
    },
    {
     "name": "stderr",
     "output_type": "stream",
     "text": [
      "/Users/Nicholas/.pyenv/versions/3.7.8/lib/python3.7/site-packages/jax/lib/xla_bridge.py:130: UserWarning: No GPU/TPU found, falling back to CPU.\n",
      "  warnings.warn('No GPU/TPU found, falling back to CPU.')\n"
     ]
    },
    {
     "name": "stdout",
     "output_type": "stream",
     "text": [
      "radius error -0.08150556954896002\n",
      "worst concavity 0.006817608746416126\n"
     ]
    }
   ],
   "source": [
    "from sklearn.tree import DecisionTreeClassifier\n",
    "from sklearn.linear_model import LogisticRegression\n",
    "from sklearn.ensemble import RandomForestClassifier\n",
    "from ceml.sklearn import generate_counterfactual\n",
    "\n",
    "# Whitelist of features - list of features we can change/use when computing a counterfactual \n",
    "features_whitelist = None   # We can use all features\n",
    "\n",
    "# Create model\n",
    "model = RandomForestClassifier(n_estimators=3, max_depth=3, random_state=STATE)\n",
    "\n",
    "# Fit model\n",
    "model.fit(X_train, y_train)\n",
    "print('Model accuracy = ', model.score(X_test, y_test))\n",
    "\n",
    "# Select data point for explaining its prediction\n",
    "x = X_test[0,:]\n",
    "instance_pred = model.predict([x])[0]\n",
    "print(\"Prediction on x: {0}\".format(instance_pred))\n",
    "\n",
    "# Compute counterfactual\n",
    "cf = generate_counterfactual(model, x, y_target=(1-instance_pred), \n",
    "                             features_whitelist=features_whitelist)\n",
    "\n",
    "disp_cf_results(cf)"
   ]
  },
  {
   "cell_type": "markdown",
   "metadata": {},
   "source": [
    "### Timing Random Forest Model"
   ]
  },
  {
   "cell_type": "code",
   "execution_count": 8,
   "metadata": {},
   "outputs": [
    {
     "name": "stdout",
     "output_type": "stream",
     "text": [
      "No counterfactual found - Consider changing parameters 'C', 'regularization', 'features_whitelist', 'optimizer' and try again\n",
      "No counterfactual found - Consider changing parameters 'C', 'regularization', 'features_whitelist', 'optimizer' and try again\n",
      "No counterfactual found - Consider changing parameters 'C', 'regularization', 'features_whitelist', 'optimizer' and try again\n",
      "No counterfactual found - Consider changing parameters 'C', 'regularization', 'features_whitelist', 'optimizer' and try again\n"
     ]
    },
    {
     "data": {
      "text/plain": [
       "[[3, 0.9308510638297872, True, 5.0919108390808105],\n",
       " [5, 0.9361702127659575, True, 16.53546690940857],\n",
       " [10, 0.9202127659574468, True, 19.168144941329956],\n",
       " [20, 0.9414893617021277, False, 255.7807731628418],\n",
       " [25, 0.9468085106382979, False, 357.21237993240356],\n",
       " [30, 0.9574468085106383, False, 529.0565738677979],\n",
       " [40, 0.9414893617021277, False, 1451.4815938472748]]"
      ]
     },
     "execution_count": 8,
     "metadata": {},
     "output_type": "execute_result"
    }
   ],
   "source": [
    "import time\n",
    "\n",
    "x = X_test[0,:]\n",
    "instance_pred = model.predict([x])[0]\n",
    "\n",
    "results = []\n",
    "\n",
    "for n_estimators in [3, 5, 10, 20, 25, 30, 40]:\n",
    "    # create and fit RF\n",
    "    rf = RandomForestClassifier(n_estimators=n_estimators, max_depth=3, \n",
    "                                random_state=STATE)\n",
    "    rf.fit(X_train, y_train)\n",
    "    score = rf.score(X_test, y_test)\n",
    "    \n",
    "    s = time.time()\n",
    "    try:\n",
    "        # try gen cf\n",
    "        cf = generate_counterfactual(rf, x, y_target=(1-instance_pred), \n",
    "                                     features_whitelist=None)\n",
    "        cf_found = True\n",
    "    except Exception as e:\n",
    "        print(e)\n",
    "        cf_found = False\n",
    "    time_elapsed = time.time() - s\n",
    "    \n",
    "    results.append([n_estimators, score, cf_found, time_elapsed])\n",
    "\n",
    "results"
   ]
  },
  {
   "cell_type": "code",
   "execution_count": 6,
   "metadata": {},
   "outputs": [],
   "source": [
    "results = [\n",
    " [3, 0.9308510638297872, True, 5.0919108390808105],\n",
    " [5, 0.9361702127659575, True, 16.53546690940857],\n",
    " [10, 0.9202127659574468, True, 19.168144941329956],\n",
    " [20, 0.9414893617021277, False, 255.7807731628418],\n",
    " [25, 0.9468085106382979, False, 357.21237993240356],\n",
    " [30, 0.9574468085106383, False, 529.0565738677979],\n",
    " [40, 0.9414893617021277, False, 1451.4815938472748]\n",
    "]"
   ]
  },
  {
   "cell_type": "code",
   "execution_count": 7,
   "metadata": {},
   "outputs": [
    {
     "data": {
      "text/html": [
       "<div>\n",
       "<style scoped>\n",
       "    .dataframe tbody tr th:only-of-type {\n",
       "        vertical-align: middle;\n",
       "    }\n",
       "\n",
       "    .dataframe tbody tr th {\n",
       "        vertical-align: top;\n",
       "    }\n",
       "\n",
       "    .dataframe thead th {\n",
       "        text-align: right;\n",
       "    }\n",
       "</style>\n",
       "<table border=\"1\" class=\"dataframe\">\n",
       "  <thead>\n",
       "    <tr style=\"text-align: right;\">\n",
       "      <th></th>\n",
       "      <th>n_estimators</th>\n",
       "      <th>accuracy</th>\n",
       "      <th>found_cf</th>\n",
       "      <th>compute_time</th>\n",
       "    </tr>\n",
       "  </thead>\n",
       "  <tbody>\n",
       "    <tr>\n",
       "      <th>0</th>\n",
       "      <td>3</td>\n",
       "      <td>0.930851</td>\n",
       "      <td>True</td>\n",
       "      <td>5.091911</td>\n",
       "    </tr>\n",
       "    <tr>\n",
       "      <th>1</th>\n",
       "      <td>5</td>\n",
       "      <td>0.936170</td>\n",
       "      <td>True</td>\n",
       "      <td>16.535467</td>\n",
       "    </tr>\n",
       "    <tr>\n",
       "      <th>2</th>\n",
       "      <td>10</td>\n",
       "      <td>0.920213</td>\n",
       "      <td>True</td>\n",
       "      <td>19.168145</td>\n",
       "    </tr>\n",
       "    <tr>\n",
       "      <th>3</th>\n",
       "      <td>20</td>\n",
       "      <td>0.941489</td>\n",
       "      <td>False</td>\n",
       "      <td>255.780773</td>\n",
       "    </tr>\n",
       "    <tr>\n",
       "      <th>4</th>\n",
       "      <td>25</td>\n",
       "      <td>0.946809</td>\n",
       "      <td>False</td>\n",
       "      <td>357.212380</td>\n",
       "    </tr>\n",
       "    <tr>\n",
       "      <th>5</th>\n",
       "      <td>30</td>\n",
       "      <td>0.957447</td>\n",
       "      <td>False</td>\n",
       "      <td>529.056574</td>\n",
       "    </tr>\n",
       "    <tr>\n",
       "      <th>6</th>\n",
       "      <td>40</td>\n",
       "      <td>0.941489</td>\n",
       "      <td>False</td>\n",
       "      <td>1451.481594</td>\n",
       "    </tr>\n",
       "  </tbody>\n",
       "</table>\n",
       "</div>"
      ],
      "text/plain": [
       "   n_estimators  accuracy  found_cf  compute_time\n",
       "0             3  0.930851      True      5.091911\n",
       "1             5  0.936170      True     16.535467\n",
       "2            10  0.920213      True     19.168145\n",
       "3            20  0.941489     False    255.780773\n",
       "4            25  0.946809     False    357.212380\n",
       "5            30  0.957447     False    529.056574\n",
       "6            40  0.941489     False   1451.481594"
      ]
     },
     "execution_count": 7,
     "metadata": {},
     "output_type": "execute_result"
    }
   ],
   "source": [
    "df = pd.DataFrame(results, columns=['n_estimators', 'accuracy', 'found_cf', 'compute_time'])\n",
    "df"
   ]
  },
  {
   "cell_type": "code",
   "execution_count": 20,
   "metadata": {},
   "outputs": [
    {
     "data": {
      "image/png": "[encoded data removed]",
      "text/plain": [
       "<Figure size 432x288 with 1 Axes>"
      ]
     },
     "metadata": {
      "needs_background": "light"
     },
     "output_type": "display_data"
    }
   ],
   "source": [
    "import matplotlib.pyplot as plt\n",
    "\n",
    "plt.plot(df['n_estimators'], df['compute_time'])\n",
    "plt.scatter(df['n_estimators'].iloc[:3], df['compute_time'].iloc[:3], marker='o', label='CFs found')\n",
    "plt.scatter(df['n_estimators'].iloc[3:], df['compute_time'].iloc[3:], marker='x', color='red', \n",
    "            label='CFs not found')\n",
    "plt.title('CEML counterfactual compute time vs number of estimators')\n",
    "plt.xlabel('Number of ensemble estimators')\n",
    "plt.ylabel('Time (Seconds)')\n",
    "plt.legend()\n",
    "plt.savefig('rf-ceml-results.pdf')"
   ]
  },
  {
   "cell_type": "code",
   "execution_count": null,
   "metadata": {},
   "outputs": [],
   "source": []
  }
 ],
 "metadata": {
  "kernelspec": {
   "display_name": "Python 3",
   "language": "python",
   "name": "python3"
  },
  "language_info": {
   "codemirror_mode": {
    "name": "ipython",
    "version": 3
   },
   "file_extension": ".py",
   "mimetype": "text/x-python",
   "name": "python",
   "nbconvert_exporter": "python",
   "pygments_lexer": "ipython3",
   "version": "3.7.8"
  }
 },
 "nbformat": 4,
 "nbformat_minor": 4
}
