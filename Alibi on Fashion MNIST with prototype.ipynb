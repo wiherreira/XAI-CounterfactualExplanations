{
  "nbformat": 4,
  "nbformat_minor": 0,
  "metadata": {
    "colab": {
      "name": "Copy of Welcome to Colaboratory",
      "provenance": [],
      "collapsed_sections": [],
      "toc_visible": true
    },
    "kernelspec": {
      "display_name": "Python 3",
      "name": "python3"
    },
    "accelerator": "GPU"
  },
  "cells": [
    {
      "cell_type": "code",
      "metadata": {
        "id": "2yEohP8kCOs8"
      },
      "source": [
        "#!pip install alibi"
      ],
      "execution_count": 114,
      "outputs": []
    },
    {
      "cell_type": "code",
      "metadata": {
        "id": "tWd_SDa_COvh",
        "outputId": "c833c0aa-0960-4a7e-b662-cb07d2f87d10",
        "colab": {
          "base_uri": "https://localhost:8080/",
          "height": 51
        }
      },
      "source": [
        "import tensorflow as tf\n",
        "tf.get_logger().setLevel(40) # suppress deprecation messages\n",
        "tf.compat.v1.disable_v2_behavior() # disable TF2 behaviour as alibi code still relies on TF1 constructs\n",
        "from tensorflow.keras.layers import Conv2D, Dense, Dropout, Flatten, MaxPooling2D, Input, UpSampling2D\n",
        "from tensorflow.keras.models import Model, load_model\n",
        "from tensorflow.keras.utils import to_categorical\n",
        "\n",
        "import matplotlib\n",
        "%matplotlib inline\n",
        "import matplotlib.pyplot as plt\n",
        "import numpy as np\n",
        "import os\n",
        "from time import time\n",
        "from alibi.explainers import CounterFactualProto\n",
        "\n",
        "print('TF version: ', tf.__version__)\n",
        "print('Eager execution enabled: ', tf.executing_eagerly()) # False"
      ],
      "execution_count": 115,
      "outputs": [
        {
          "output_type": "stream",
          "text": [
            "TF version:  2.3.0\n",
            "Eager execution enabled:  False\n"
          ],
          "name": "stdout"
        }
      ]
    },
    {
      "cell_type": "code",
      "metadata": {
        "id": "W6Tjp6kvCOyQ",
        "outputId": "c0f16ad7-41cf-4a31-dbba-d2eee7e3a4fb",
        "colab": {
          "base_uri": "https://localhost:8080/",
          "height": 282
        }
      },
      "source": [
        "(x_train, y_train), (x_test, y_test) = tf.keras.datasets.fashion_mnist.load_data()\n",
        "print('x_train shape:', x_train.shape, 'y_train shape:', y_train.shape)\n",
        "plt.gray()\n",
        "plt.imshow(x_test[1]);"
      ],
      "execution_count": 116,
      "outputs": [
        {
          "output_type": "stream",
          "text": [
            "x_train shape: (60000, 28, 28) y_train shape: (60000,)\n"
          ],
          "name": "stdout"
        },
        {
          "output_type": "display_data",
          "data": {
            "image/png": "[encoded data removed]",
            "text/plain": [
              "<Figure size 432x288 with 1 Axes>"
            ]
          },
          "metadata": {
            "tags": [],
            "needs_background": "light"
          }
        }
      ]
    },
    {
      "cell_type": "code",
      "metadata": {
        "id": "POfVirA4CO08",
        "outputId": "bc29f855-e6c9-47dd-a13d-6bac3bca0eb4",
        "colab": {
          "base_uri": "https://localhost:8080/",
          "height": 51
        }
      },
      "source": [
        "x_train = x_train.astype('float32') / 255\n",
        "x_test = x_test.astype('float32') / 255\n",
        "x_train = np.reshape(x_train, x_train.shape + (1,))\n",
        "x_test = np.reshape(x_test, x_test.shape + (1,))\n",
        "print('x_train shape:', x_train.shape, 'x_test shape:', x_test.shape)\n",
        "y_train = to_categorical(y_train)\n",
        "y_test = to_categorical(y_test)\n",
        "print('y_train shape:', y_train.shape, 'y_test shape:', y_test.shape)"
      ],
      "execution_count": 117,
      "outputs": [
        {
          "output_type": "stream",
          "text": [
            "x_train shape: (60000, 28, 28, 1) x_test shape: (10000, 28, 28, 1)\n",
            "y_train shape: (60000, 10) y_test shape: (10000, 10)\n"
          ],
          "name": "stdout"
        }
      ]
    },
    {
      "cell_type": "code",
      "metadata": {
        "id": "XFVGE46kCO6o"
      },
      "source": [
        "xmin, xmax = -.5, .5\n",
        "x_train = ((x_train - x_train.min()) / (x_train.max() - x_train.min())) * (xmax - xmin) + xmin\n",
        "x_test = ((x_test - x_test.min()) / (x_test.max() - x_test.min())) * (xmax - xmin) + xmin"
      ],
      "execution_count": 118,
      "outputs": []
    },
    {
      "cell_type": "code",
      "metadata": {
        "id": "pGPJkKlsCO9P"
      },
      "source": [
        "def cnn_model():\n",
        "    x_in = Input(shape=(28, 28, 1))\n",
        "    x = Conv2D(filters=32, kernel_size=2, padding='same', activation='relu')(x_in)\n",
        "    x = MaxPooling2D(pool_size=2)(x)\n",
        "    x = Dropout(0.3)(x)\n",
        "\n",
        "    x = Conv2D(filters=64, kernel_size=2, padding='same', activation='relu')(x)\n",
        "    x = MaxPooling2D(pool_size=2)(x)\n",
        "    x = Dropout(0.3)(x)\n",
        "\n",
        "    x = Flatten()(x)\n",
        "    x = Dense(256, activation='relu')(x)\n",
        "    x = Dropout(0.5)(x)\n",
        "    x_out = Dense(10, activation='softmax')(x)\n",
        "\n",
        "    cnn = Model(inputs=x_in, outputs=x_out)\n",
        "    cnn.compile(loss='categorical_crossentropy', optimizer='adam', metrics=['accuracy'])\n",
        "\n",
        "    return cnn"
      ],
      "execution_count": 119,
      "outputs": []
    },
    {
      "cell_type": "code",
      "metadata": {
        "id": "Hl82-eiXCO_y"
      },
      "source": [
        "cnn = cnn_model()\n",
        "cnn.fit(x_train, y_train, batch_size=32, epochs=3, verbose=0)\n",
        "cnn.save('mnist_cnn.h5', save_format='h5')"
      ],
      "execution_count": 120,
      "outputs": []
    },
    {
      "cell_type": "code",
      "metadata": {
        "id": "rBBUP2mxCPCo",
        "outputId": "c6c5eb82-03bb-4d2a-e40b-fd1e182ce91d",
        "colab": {
          "base_uri": "https://localhost:8080/",
          "height": 34
        }
      },
      "source": [
        "cnn = load_model('mnist_cnn.h5')\n",
        "score = cnn.evaluate(x_test, y_test, verbose=0)\n",
        "print('Test accuracy: ', score[1])"
      ],
      "execution_count": 121,
      "outputs": [
        {
          "output_type": "stream",
          "text": [
            "Test accuracy:  0.892\n"
          ],
          "name": "stdout"
        }
      ]
    },
    {
      "cell_type": "code",
      "metadata": {
        "id": "bb3q5jLlCPFW"
      },
      "source": [
        "def ae_model():\n",
        "    # encoder\n",
        "    x_in = Input(shape=(28, 28, 1))\n",
        "    x = Conv2D(16, (3, 3), activation='relu', padding='same')(x_in)\n",
        "    x = Conv2D(16, (3, 3), activation='relu', padding='same')(x)\n",
        "    x = MaxPooling2D((2, 2), padding='same')(x)\n",
        "    encoded = Conv2D(1, (3, 3), activation=None, padding='same')(x)\n",
        "    encoder = Model(x_in, encoded)\n",
        "\n",
        "    # decoder\n",
        "    dec_in = Input(shape=(14, 14, 1))\n",
        "    x = Conv2D(16, (3, 3), activation='relu', padding='same')(dec_in)\n",
        "    x = UpSampling2D((2, 2))(x)\n",
        "    x = Conv2D(16, (3, 3), activation='relu', padding='same')(x)\n",
        "    decoded = Conv2D(1, (3, 3), activation=None, padding='same')(x)\n",
        "    decoder = Model(dec_in, decoded)\n",
        "\n",
        "    # autoencoder = encoder + decoder\n",
        "    x_out = decoder(encoder(x_in))\n",
        "    autoencoder = Model(x_in, x_out)\n",
        "    autoencoder.compile(optimizer='adam', loss='mse')\n",
        "\n",
        "    return autoencoder, encoder, decoder"
      ],
      "execution_count": 122,
      "outputs": []
    },
    {
      "cell_type": "code",
      "metadata": {
        "id": "wZfXe0BBCPIJ"
      },
      "source": [
        "ae, enc, dec = ae_model()\n",
        "ae.fit(x_train, x_train, batch_size=128, epochs=4, validation_data=(x_test, x_test), verbose=0)\n",
        "ae.save('mnist_ae.h5', save_format='h5')\n",
        "enc.save('mnist_enc.h5', save_format='h5')"
      ],
      "execution_count": 123,
      "outputs": []
    },
    {
      "cell_type": "code",
      "metadata": {
        "id": "KrEPlrQbCPKm",
        "outputId": "3af8219f-6e87-43c0-9971-2f79e0d1bfc6",
        "colab": {
          "base_uri": "https://localhost:8080/",
          "height": 252
        }
      },
      "source": [
        "enc = load_model('mnist_enc.h5', compile=False)\n",
        "\n",
        "decoded_imgs = ae.predict(x_test)\n",
        "n = 5\n",
        "plt.figure(figsize=(20, 4))\n",
        "for i in range(1, n+1):\n",
        "    # display original\n",
        "    ax = plt.subplot(2, n, i)\n",
        "    plt.imshow(x_test[i].reshape(28, 28))\n",
        "    ax.get_xaxis().set_visible(False)\n",
        "    ax.get_yaxis().set_visible(False)\n",
        "    # display reconstruction\n",
        "    ax = plt.subplot(2, n, i + n)\n",
        "    plt.imshow(decoded_imgs[i].reshape(28, 28))\n",
        "    ax.get_xaxis().set_visible(False)\n",
        "    ax.get_yaxis().set_visible(False)\n",
        "plt.show()"
      ],
      "execution_count": 124,
      "outputs": [
        {
          "output_type": "display_data",
          "data": {
            "image/png": "[encoded data removed]",
            "text/plain": [
              "<Figure size 1440x288 with 10 Axes>"
            ]
          },
          "metadata": {
            "tags": [],
            "needs_background": "light"
          }
        }
      ]
    },
    {
      "cell_type": "code",
      "metadata": {
        "id": "uc2fCv9FCPNM",
        "outputId": "6624a910-4c90-4c5d-ca3b-93fd9159e63f",
        "colab": {
          "base_uri": "https://localhost:8080/",
          "height": 265
        }
      },
      "source": [
        "X = x_test[0].reshape((1,) + x_test[0].shape)\n",
        "plt.imshow(X.reshape(28, 28));"
      ],
      "execution_count": 125,
      "outputs": [
        {
          "output_type": "display_data",
          "data": {
            "image/png": "[encoded data removed]",
            "text/plain": [
              "<Figure size 432x288 with 1 Axes>"
            ]
          },
          "metadata": {
            "tags": [],
            "needs_background": "light"
          }
        }
      ]
    },
    {
      "cell_type": "code",
      "metadata": {
        "id": "s1U1ETh-CPPy"
      },
      "source": [
        "shape = (1,) + x_train.shape[1:]\n",
        "gamma = 100.\n",
        "theta = 100.\n",
        "c_init = 1.\n",
        "c_steps = 2\n",
        "max_iterations = 1000\n",
        "feature_range = (x_train.min(),x_train.max())"
      ],
      "execution_count": 126,
      "outputs": []
    },
    {
      "cell_type": "code",
      "metadata": {
        "id": "GMYvvC3LCPSc",
        "outputId": "e86efd7f-eccb-44af-9f79-799730dfd106",
        "colab": {
          "base_uri": "https://localhost:8080/",
          "height": 51
        }
      },
      "source": [
        "# initialize explainer, fit and generate counterfactual\n",
        "cf = CounterFactualProto(cnn, shape, gamma=gamma, theta=theta,\n",
        "                         ae_model=ae, enc_model=enc, max_iterations=max_iterations,\n",
        "                         feature_range=feature_range, c_init=c_init, c_steps=c_steps)\n",
        "start_time = time()\n",
        "cf.fit(x_train)  # find class prototypes\n",
        "print('Time to find prototypes each class: {:.3f} sec'.format(time() - start_time))\n",
        "start_time = time()\n",
        "explanation = cf.explain(X)\n",
        "print('Explanation took {:.3f} sec'.format(time() - start_time))"
      ],
      "execution_count": 127,
      "outputs": [
        {
          "output_type": "stream",
          "text": [
            "Time to find prototypes each class: 5.302 sec\n",
            "Explanation took 12.406 sec\n"
          ],
          "name": "stdout"
        }
      ]
    },
    {
      "cell_type": "code",
      "metadata": {
        "id": "H3MNuBTPKr4a",
        "outputId": "03bd546d-a765-40ad-c33b-b3170f2c4e3d",
        "colab": {
          "base_uri": "https://localhost:8080/",
          "height": 299
        }
      },
      "source": [
        "class_label=['T-shirt/top','Trouser','Pullover', 'Dress', 'Coat', 'Sandal', 'Shirt','Sneaker','Bag', 'Ankle boot']\n",
        "print('Counterfactual prediction: {}'.format(class_label[explanation.cf['class']]))\n",
        "print('Closest prototype class: {}'.format(class_label[explanation.id_proto]))\n",
        "plt.imshow(explanation.cf['X'].reshape(28, 28));"
      ],
      "execution_count": 128,
      "outputs": [
        {
          "output_type": "stream",
          "text": [
            "Counterfactual prediction: Sneaker\n",
            "Closest prototype class: Sandal\n"
          ],
          "name": "stdout"
        },
        {
          "output_type": "display_data",
          "data": {
            "image/png": "[encoded data removed]",
            "text/plain": [
              "<Figure size 432x288 with 1 Axes>"
            ]
          },
          "metadata": {
            "tags": [],
            "needs_background": "light"
          }
        }
      ]
    },
    {
      "cell_type": "code",
      "metadata": {
        "id": "FUIcdpdKKm9Z",
        "outputId": "587b390e-3141-46a1-c94d-a9b25982ce5b",
        "colab": {
          "base_uri": "https://localhost:8080/",
          "height": 265
        }
      },
      "source": [
        "plt.imshow((explanation.cf['X'] - X).reshape(28, 28));"
      ],
      "execution_count": 129,
      "outputs": [
        {
          "output_type": "display_data",
          "data": {
            "image/png": "[encoded data removed]",
            "text/plain": [
              "<Figure size 432x288 with 1 Axes>"
            ]
          },
          "metadata": {
            "tags": [],
            "needs_background": "light"
          }
        }
      ]
    }
  ]
}